{
 "cells": [
  {
   "attachments": {},
   "cell_type": "markdown",
   "metadata": {},
   "source": [
    "# Inteligencia de Negocios: Laboratorio 1\n",
    "---\n",
    "## Integrantes: Grupo 17\n",
    "\n",
    "* Mariana Díaz Arenas - [m.diaza2](mailto:m.diaza2@uniandes.edu.co) \n",
    "* Esteban Gonzales Ruales - [e.gonzalez5](mailto:e.gonzalez5@uniandes.edu.co) \n",
    "* Juan Diego Yepes - [j.yepes](mailto:j.yepes@uniandes.edu.co) \n",
    "---\n",
    "\n",
    "En el siguiente cuaderno de Jupyter implementamos la solución al siguiente laboratorio propuesto: [link](https://gitlab.virtual.uniandes.edu.co/ISIS3301/laboratorios/blob/master/202310/Lab%201%20-%20Clustering/Laboratorio1_enunciado.md)"
   ]
  },
  {
   "cell_type": "code",
   "execution_count": 1,
   "metadata": {},
   "outputs": [
    {
     "data": {
      "text/plain": [
       "(5338, 0)"
      ]
     },
     "execution_count": 1,
     "metadata": {},
     "output_type": "execute_result"
    }
   ],
   "source": [
    "# Importación de librerías y creación del dataFrame\n",
    "\n",
    "import numpy as np\n",
    "import pandas as pd\n",
    "\n",
    "from sklearn.preprocessing import StandardScaler\n",
    "from sklearn.cluster import KMeans\n",
    "from sklearn.metrics import silhouette_samples, silhouette_score\n",
    "\n",
    "import matplotlib.pyplot as plt\n",
    "import matplotlib.cm as cm\n",
    "import seaborn as sns\n",
    "\n",
    "pd.set_option('display.max_columns', None)\n",
    "pd.set_option('display.max_rows', 50)\n",
    "\n",
    "df_roads = pd.read_csv('./data/BiciAlpes.csv', index_col = 0, encoding = \"latin1\")\n",
    "df_roads.shape"
   ]
  }
 ],
 "metadata": {
  "kernelspec": {
   "display_name": "Python 3",
   "language": "python",
   "name": "python3"
  },
  "language_info": {
   "codemirror_mode": {
    "name": "ipython",
    "version": 3
   },
   "file_extension": ".py",
   "mimetype": "text/x-python",
   "name": "python",
   "nbconvert_exporter": "python",
   "pygments_lexer": "ipython3",
   "version": "3.10.8"
  },
  "orig_nbformat": 4,
  "vscode": {
   "interpreter": {
    "hash": "b0fa6594d8f4cbf19f97940f81e996739fb7646882a419484c72d19e05852a7e"
   }
  }
 },
 "nbformat": 4,
 "nbformat_minor": 2
}
